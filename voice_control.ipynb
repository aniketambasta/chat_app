{
 "cells": [
  {
   "cell_type": "code",
   "execution_count": 20,
   "metadata": {},
   "outputs": [],
   "source": [
    "import speech_recognition as sr\n",
    "import webbrowser\n",
    "import os\n"
   ]
  },
  {
   "cell_type": "code",
   "execution_count": 21,
   "metadata": {},
   "outputs": [],
   "source": [
    "r= sr.Recognizer()"
   ]
  },
  {
   "cell_type": "code",
   "execution_count": 25,
   "metadata": {},
   "outputs": [
    {
     "name": "stdout",
     "output_type": "stream",
     "text": [
      "Listening. .. . \n",
      "analyzing. . . \n"
     ]
    }
   ],
   "source": [
    "with sr.Microphone() as source:\n",
    "    print(\"Listening. .. . \")\n",
    "    audio = r.listen(source)\n",
    "    print(\"analyzing. . . \")"
   ]
  },
  {
   "cell_type": "code",
   "execution_count": 26,
   "metadata": {},
   "outputs": [],
   "source": [
    "ch=r.recognize_google(audio)"
   ]
  },
  {
   "cell_type": "code",
   "execution_count": 27,
   "metadata": {},
   "outputs": [
    {
     "data": {
      "text/plain": [
       "'open opera browser'"
      ]
     },
     "execution_count": 27,
     "metadata": {},
     "output_type": "execute_result"
    }
   ],
   "source": [
    "ch = ch.lower()\n",
    "ch"
   ]
  },
  {
   "cell_type": "code",
   "execution_count": 28,
   "metadata": {},
   "outputs": [],
   "source": [
    "if (\"earth\" in ch) and (\"folder\" in ch):\n",
    "    webbrowser.open(\"D:\\ARTH\")\n",
    "    \n",
    "elif (\"opera\" in ch) or (\"browser\" in ch):\n",
    "    webbrowser.open(\"https://www.google.com/\")\n",
    "\n",
    "elif (\"gmail\" in ch) or (\"browser\" in ch):\n",
    "    webbrowser.open(\"https://mail.google.com/mail/u/0/#inbox\")\n",
    "\n",
    "elif (\"virtualbox\" in ch) or (\"vm\" in ch):\n",
    "    webbrowser.open(\"C:\\Program Files\\Oracle\\VirtualBox\\VirtualBox.exe\")"
   ]
  },
  {
   "cell_type": "code",
   "execution_count": null,
   "metadata": {},
   "outputs": [],
   "source": [
    "webbrowser.open(\"http://13.232.1.183\")"
   ]
  },
  {
   "cell_type": "code",
   "execution_count": null,
   "metadata": {},
   "outputs": [],
   "source": [
    "with sr.Microphone() as source:\n",
    "    print(\"Listening. .. . \")\n",
    "    audio = r.listen(source)\n",
    "    print(\"analyzing. . . \")\n",
    "    \n",
    "    \n",
    "ch=r.recognize_google(audio)\n",
    "\n",
    "ch = ch.lower()\n",
    "\n",
    "if (\"earth\" in ch) and (\"folder\" in ch):\n",
    "    webbrowser.open(\"D:\\ARTH\")\n",
    "    \n",
    "elif (\"opera\" in ch) or (\"browser\" in ch):\n",
    "    webbrowser.open(\"https://www.google.com/\")\n",
    "\n",
    "elif (\"gmail\" in ch) or (\"browser\" in ch):\n",
    "    webbrowser.open(\"https://mail.google.com/mail/u/0/#inbox\")\n",
    "\n",
    "elif (\"virtualbox\" in ch) or (\"vm\" in ch):\n",
    "    webbrowser.open(\"C:\\Program Files\\Oracle\\VirtualBox\\VirtualBox.exe\")"
   ]
  },
  {
   "cell_type": "code",
   "execution_count": null,
   "metadata": {},
   "outputs": [],
   "source": []
  }
 ],
 "metadata": {
  "kernelspec": {
   "display_name": "Python 3",
   "language": "python",
   "name": "python3"
  },
  "language_info": {
   "codemirror_mode": {
    "name": "ipython",
    "version": 3
   },
   "file_extension": ".py",
   "mimetype": "text/x-python",
   "name": "python",
   "nbconvert_exporter": "python",
   "pygments_lexer": "ipython3",
   "version": "3.8.5"
  }
 },
 "nbformat": 4,
 "nbformat_minor": 4
}
